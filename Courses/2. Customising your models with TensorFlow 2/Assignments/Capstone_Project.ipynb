{
  "nbformat": 4,
  "nbformat_minor": 0,
  "metadata": {
    "kernelspec": {
      "display_name": "Python 3",
      "language": "python",
      "name": "python3"
    },
    "language_info": {
      "codemirror_mode": {
        "name": "ipython",
        "version": 3
      },
      "file_extension": ".py",
      "mimetype": "text/x-python",
      "name": "python",
      "nbconvert_exporter": "python",
      "pygments_lexer": "ipython3",
      "version": "3.7.1"
    },
    "colab": {
      "name": "Copy of Capstone Project.ipynb",
      "provenance": []
    },
    "accelerator": "GPU"
  },
  "cells": [
    {
      "cell_type": "markdown",
      "metadata": {
        "id": "lhpL5IbMNwBM"
      },
      "source": [
        "# Capstone Project\n",
        "## Neural translation model\n",
        "### Instructions\n",
        "\n",
        "In this notebook, you will create a neural network that translates from English to German. You will use concepts from throughout this course, including building more flexible model architectures, freezing layers, data processing pipeline and sequence modelling.\n",
        "\n",
        "This project is peer-assessed. Within this notebook you will find instructions in each section for how to complete the project. Pay close attention to the instructions as the peer review will be carried out according to a grading rubric that checks key parts of the project instructions. Feel free to add extra cells into the notebook as required.\n",
        "\n",
        "### How to submit\n",
        "\n",
        "When you have completed the Capstone project notebook, you will submit a pdf of the notebook for peer review. First ensure that the notebook has been fully executed from beginning to end, and all of the cell outputs are visible. This is important, as the grading rubric depends on the reviewer being able to view the outputs of your notebook. Save the notebook as a pdf (File -> Download as -> PDF via LaTeX). You should then submit this pdf for review.\n",
        "\n",
        "### Let's get started!\n",
        "\n",
        "We'll start by running some imports, and loading the dataset. For this project you are free to make further imports throughout the notebook as you wish. "
      ]
    },
    {
      "cell_type": "code",
      "metadata": {
        "id": "nfHraqDzNwBQ"
      },
      "source": [
        "import tensorflow as tf\n",
        "import tensorflow_hub as hub\n",
        "import unicodedata\n",
        "import re\n",
        "import json\n",
        "import numpy as np\n",
        "from tensorflow.keras.layers import Layer,Input,Masking,LSTM,Embedding,Dense\n",
        "from tensorflow.keras import Model"
      ],
      "execution_count": 1,
      "outputs": []
    },
    {
      "cell_type": "markdown",
      "metadata": {
        "id": "PTbbNuzxNwBR"
      },
      "source": [
        "![Flags overview image](data/germany_uk_flags.png)\n",
        "\n",
        "For the capstone project, you will use a language dataset from http://www.manythings.org/anki/ to build a neural translation model. This dataset consists of over 200,000 pairs of sentences in English and German. In order to make the training quicker, we will restrict to our dataset to 20,000 pairs. Feel free to change this if you wish - the size of the dataset used is not part of the grading rubric.\n",
        "\n",
        "Your goal is to develop a neural translation model from English to German, making use of a pre-trained English word embedding module."
      ]
    },
    {
      "cell_type": "code",
      "metadata": {
        "colab": {
          "base_uri": "https://localhost:8080/",
          "height": 0
        },
        "id": "AwB17rTRN1LO",
        "outputId": "9a125f27-9ab9-4352-d290-493873c37f22"
      },
      "source": [
        "from google.colab import drive\n",
        "drive.mount('/content/drive')"
      ],
      "execution_count": 2,
      "outputs": [
        {
          "output_type": "stream",
          "text": [
            "Mounted at /content/drive\n"
          ],
          "name": "stdout"
        }
      ]
    },
    {
      "cell_type": "code",
      "metadata": {
        "id": "CWva3QDyNwBS"
      },
      "source": [
        "# Run this cell to load the dataset\n",
        "\n",
        "NUM_EXAMPLES = 30000\n",
        "data_examples = []\n",
        "with open('drive/MyDrive/Colab Notebooks/data//deu.txt', 'r', encoding='utf8') as f:\n",
        "    for line in f.readlines():\n",
        "        if len(data_examples) < NUM_EXAMPLES:\n",
        "            data_examples.append(line)\n",
        "        else:\n",
        "            break"
      ],
      "execution_count": 33,
      "outputs": []
    },
    {
      "cell_type": "code",
      "metadata": {
        "id": "eZuWAz2TNwBU"
      },
      "source": [
        "# These functions preprocess English and German sentences\n",
        "\n",
        "def unicode_to_ascii(s):\n",
        "    return ''.join(c for c in unicodedata.normalize('NFD', s) if unicodedata.category(c) != 'Mn')\n",
        "\n",
        "def preprocess_sentence(sentence):\n",
        "    sentence = sentence.lower().strip()\n",
        "    sentence = re.sub(r\"ü\", 'ue', sentence)\n",
        "    sentence = re.sub(r\"ä\", 'ae', sentence)\n",
        "    sentence = re.sub(r\"ö\", 'oe', sentence)\n",
        "    sentence = re.sub(r'ß', 'ss', sentence)\n",
        "    \n",
        "    sentence = unicode_to_ascii(sentence)\n",
        "    sentence = re.sub(r\"([?.!,])\", r\" \\1 \", sentence)\n",
        "    sentence = re.sub(r\"[^a-z?.!,']+\", \" \", sentence)\n",
        "    sentence = re.sub(r'[\" \"]+', \" \", sentence)\n",
        "    \n",
        "    return sentence.strip()"
      ],
      "execution_count": 34,
      "outputs": []
    },
    {
      "cell_type": "markdown",
      "metadata": {
        "id": "P1Jh0tVSNwBV"
      },
      "source": [
        "#### The custom translation model\n",
        "The following is a schematic of the custom translation model architecture you will develop in this project.\n",
        "\n",
        "![Model Schematic](data/neural_translation_model.png)\n",
        "\n",
        "Key:\n",
        "![Model key](data/neural_translation_model_key.png)\n",
        "\n",
        "The custom model consists of an encoder RNN and a decoder RNN. The encoder takes words of an English sentence as input, and uses a pre-trained word embedding to embed the words into a 128-dimensional space. To indicate the end of the input sentence, a special end token (in the same 128-dimensional space) is passed in as an input. This token is a TensorFlow Variable that is learned in the training phase (unlike the pre-trained word embedding, which is frozen).\n",
        "\n",
        "The decoder RNN takes the internal state of the encoder network as its initial state. A start token is passed in as the first input, which is embedded using a learned German word embedding. The decoder RNN then makes a prediction for the next German word, which during inference is then passed in as the following input, and this process is repeated until the special `<end>` token is emitted from the decoder."
      ]
    },
    {
      "cell_type": "markdown",
      "metadata": {
        "id": "TpHOz6pHNwBW"
      },
      "source": [
        "## 1. Text preprocessing\n",
        "* Create separate lists of English and German sentences, and preprocess them using the `preprocess_sentence` function provided for you above.\n",
        "* Add a special `\"<start>\"` and `\"<end>\"` token to the beginning and end of every German sentence.\n",
        "* Use the Tokenizer class from the `tf.keras.preprocessing.text` module to tokenize the German sentences, ensuring that no character filters are applied. _Hint: use the Tokenizer's \"filter\" keyword argument._\n",
        "* Print out at least 5 randomly chosen examples of (preprocessed) English and German sentence pairs. For the German sentence, print out the text (with start and end tokens) as well as the tokenized sequence.\n",
        "* Pad the end of the tokenized German sequences with zeros, and batch the complete set of sequences into one numpy array."
      ]
    },
    {
      "cell_type": "code",
      "metadata": {
        "scrolled": true,
        "id": "tFvIFwLBNwBX"
      },
      "source": [
        "english_sentences = []\n",
        "german_sentences = []\n",
        "\n",
        "for i in range(len(data_examples)):\n",
        "    english_sentences.append(preprocess_sentence(data_examples[i].split(\"\\t\")[0]))\n",
        "    german_sentences.append(\"<start> %s <end>\" % preprocess_sentence(data_examples[i].split(\"\\t\")[1]))"
      ],
      "execution_count": 35,
      "outputs": []
    },
    {
      "cell_type": "code",
      "metadata": {
        "id": "AeKpEdeKNwBX"
      },
      "source": [
        "tokenizer = tf.keras.preprocessing.text.Tokenizer(filters='')\n",
        "tokenizer.fit_on_texts(german_sentences)\n",
        "tokenizer_config = tokenizer.get_config()\n",
        "index_word = json.loads(tokenizer_config['index_word'])\n",
        "word_index = json.loads(tokenizer_config['word_index'])"
      ],
      "execution_count": 36,
      "outputs": []
    },
    {
      "cell_type": "code",
      "metadata": {
        "id": "PMTLdQd6NwBY"
      },
      "source": [
        "german_sentences_seq = tokenizer.texts_to_sequences(german_sentences)"
      ],
      "execution_count": 37,
      "outputs": []
    },
    {
      "cell_type": "code",
      "metadata": {
        "id": "ZT0diMO4NwBY",
        "colab": {
          "base_uri": "https://localhost:8080/",
          "height": 0
        },
        "outputId": "e5660e57-2069-4ff7-df09-fe94508b19eb"
      },
      "source": [
        "german_sentences_seq[0]"
      ],
      "execution_count": 38,
      "outputs": [
        {
          "output_type": "execute_result",
          "data": {
            "text/plain": [
              "[1, 107, 3, 2]"
            ]
          },
          "metadata": {
            "tags": []
          },
          "execution_count": 38
        }
      ]
    },
    {
      "cell_type": "code",
      "metadata": {
        "id": "oTGvo8OANwBa",
        "colab": {
          "base_uri": "https://localhost:8080/",
          "height": 0
        },
        "outputId": "e1fc5dde-1358-4a78-a0ad-0a7c76e55c30"
      },
      "source": [
        "num = 5\n",
        "\n",
        "for i in range(num):\n",
        "    x = np.random.choice(range(len(data_examples)))\n",
        "    print(f\"INDEX:    {x}\")\n",
        "    print(f\"ENGLISH:  {english_sentences[x]}\")\n",
        "    print(f\"GERMAN:   {' '.join([index_word[str(i)] for i in german_sentences_seq[x]])}\")\n",
        "    print(f\"SEQUENCE: {german_sentences_seq[x]}\\n\")"
      ],
      "execution_count": 39,
      "outputs": [
        {
          "output_type": "stream",
          "text": [
            "INDEX:    13852\n",
            "ENGLISH:  they won't know .\n",
            "GERMAN:   <start> sie werden es nicht wissen . <end>\n",
            "SEQUENCE: [1, 8, 75, 11, 12, 184, 3, 2]\n",
            "\n",
            "INDEX:    16995\n",
            "ENGLISH:  i have a message .\n",
            "GERMAN:   <start> ich habe eine nachricht . <end>\n",
            "SEQUENCE: [1, 4, 18, 37, 885, 3, 2]\n",
            "\n",
            "INDEX:    3200\n",
            "ENGLISH:  we like tom .\n",
            "GERMAN:   <start> wir moegen tom . <end>\n",
            "SEQUENCE: [1, 14, 264, 5, 3, 2]\n",
            "\n",
            "INDEX:    3244\n",
            "ENGLISH:  we're happy .\n",
            "GERMAN:   <start> wir sind gluecklich . <end>\n",
            "SEQUENCE: [1, 14, 23, 139, 3, 2]\n",
            "\n",
            "INDEX:    13219\n",
            "ENGLISH:  leave a message .\n",
            "GERMAN:   <start> hinterlassen sie eine nachricht ! <end>\n",
            "SEQUENCE: [1, 3594, 8, 37, 885, 10, 2]\n",
            "\n"
          ],
          "name": "stdout"
        }
      ]
    },
    {
      "cell_type": "code",
      "metadata": {
        "id": "HzK4h8rFNwBa"
      },
      "source": [
        "german_sentences_seq_pad = tf.keras.preprocessing.sequence.pad_sequences(\n",
        "    german_sentences_seq,\n",
        "    padding='post'\n",
        ")"
      ],
      "execution_count": 40,
      "outputs": []
    },
    {
      "cell_type": "markdown",
      "metadata": {
        "id": "qt2GkCvWNwBb"
      },
      "source": [
        "## 2. Prepare the data with tf.data.Dataset objects"
      ]
    },
    {
      "cell_type": "markdown",
      "metadata": {
        "id": "lkwev_wFNwBb"
      },
      "source": [
        "#### Load the embedding layer\n",
        "As part of the dataset preproceessing for this project, you will use a pre-trained English word embedding module from TensorFlow Hub. The URL for the module is https://tfhub.dev/google/tf2-preview/nnlm-en-dim128-with-normalization/1. This module has also been made available as a complete saved model in the folder `'./models/tf2-preview_nnlm-en-dim128_1'`. \n",
        "\n",
        "This embedding takes a batch of text tokens in a 1-D tensor of strings as input. It then embeds the separate tokens into a 128-dimensional space. \n",
        "\n",
        "The code to load and test the embedding layer is provided for you below.\n",
        "\n",
        "**NB:** this model can also be used as a sentence embedding module. The module will process each token by removing punctuation and splitting on spaces. It then averages the word embeddings over a sentence to give a single embedding vector. However, we will use it only as a word embedding module, and will pass each word in the input sentence as a separate token."
      ]
    },
    {
      "cell_type": "code",
      "metadata": {
        "id": "sF1R54b5NwBb"
      },
      "source": [
        "# Load embedding module from Tensorflow Hub\n",
        "import tensorflow_hub as hub\n",
        "\n",
        "embedding_layer = hub.KerasLayer(\"https://tfhub.dev/google/tf2-preview/nnlm-en-dim128/1\", \n",
        "                                 output_shape=[128], input_shape=[], dtype=tf.string)\n",
        "\n",
        "# embedding_layer = tf.keras.models.load_model('./models/tf2-preview_nnlm-en-dim128_1')"
      ],
      "execution_count": 41,
      "outputs": []
    },
    {
      "cell_type": "code",
      "metadata": {
        "id": "OdCx4EJyNwBc",
        "colab": {
          "base_uri": "https://localhost:8080/",
          "height": 0
        },
        "outputId": "084a3924-7191-4c64-a1bb-a4a369d2ee10"
      },
      "source": [
        "# Test the layer\n",
        "\n",
        "embedding_layer(tf.constant([\"these\", \"aren't\", \"the\", \"droids\", \"you're\", \"looking\", \"for\"])).shape"
      ],
      "execution_count": 42,
      "outputs": [
        {
          "output_type": "execute_result",
          "data": {
            "text/plain": [
              "TensorShape([7, 128])"
            ]
          },
          "metadata": {
            "tags": []
          },
          "execution_count": 42
        }
      ]
    },
    {
      "cell_type": "markdown",
      "metadata": {
        "id": "7H2eXZR6NwBc"
      },
      "source": [
        "You should now prepare the training and validation Datasets.\n",
        "\n",
        "* Create a random training and validation set split of the data, reserving e.g. 20% of the data for validation (NB: each English dataset example is a single sentence string, and each German dataset example is a sequence of padded integer tokens).\n",
        "* Load the training and validation sets into a tf.data.Dataset object, passing in a tuple of English and German data for both training and validation sets.\n",
        "* Create a function to map over the datasets that splits each English sentence at spaces. Apply this function to both Dataset objects using the map method. _Hint: look at the tf.strings.split function._\n",
        "* Create a function to map over the datasets that embeds each sequence of English words using the loaded embedding layer/model. Apply this function to both Dataset objects using the map method.\n",
        "* Create a function to filter out dataset examples where the English sentence is more than 13 (embedded) tokens in length. Apply this function to both Dataset objects using the filter method.\n",
        "* Create a function to map over the datasets that pads each English sequence of embeddings with some distinct padding value before the sequence, so that each sequence is length 13. Apply this function to both Dataset objects using the map method. _Hint: look at the tf.pad function. You can extract a Tensor shape using tf.shape; you might also find the tf.math.maximum function useful._\n",
        "* Batch both training and validation Datasets with a batch size of 16.\n",
        "* Print the `element_spec` property for the training and validation Datasets. \n",
        "* Using the Dataset `.take(1)` method, print the shape of the English data example from the training Dataset.\n",
        "* Using the Dataset `.take(1)` method, print the German data example Tensor from the validation Dataset."
      ]
    },
    {
      "cell_type": "code",
      "metadata": {
        "id": "FLM-jFnVNwBc"
      },
      "source": [
        "from sklearn.model_selection import train_test_split\n",
        "\n",
        "x_train, x_val, y_train, y_val = train_test_split(english_sentences, german_sentences_seq_pad, test_size=0.2)"
      ],
      "execution_count": 43,
      "outputs": []
    },
    {
      "cell_type": "code",
      "metadata": {
        "id": "Uj7u7r1uNwBd"
      },
      "source": [
        "train_dataset = tf.data.Dataset.from_tensor_slices((x_train, y_train))\n",
        "val_dataset = tf.data.Dataset.from_tensor_slices((x_val, y_val))"
      ],
      "execution_count": 44,
      "outputs": []
    },
    {
      "cell_type": "code",
      "metadata": {
        "id": "o6SKcXxQNwBd"
      },
      "source": [
        "def split_function(x, y):\n",
        "    return tf.strings.split(x, \" \"), y\n",
        "\n",
        "train_dataset = train_dataset.map(split_function)\n",
        "val_dataset = val_dataset.map(split_function)"
      ],
      "execution_count": 45,
      "outputs": []
    },
    {
      "cell_type": "code",
      "metadata": {
        "id": "Z5Uc4d1HNwBd"
      },
      "source": [
        "def emb_function(x, y):\n",
        "    return embedding_layer(x), y\n",
        "\n",
        "train_dataset = train_dataset.map(emb_function)\n",
        "val_dataset = val_dataset.map(emb_function)"
      ],
      "execution_count": 46,
      "outputs": []
    },
    {
      "cell_type": "code",
      "metadata": {
        "id": "UBkuQr_rNwBd"
      },
      "source": [
        "def keep_function(x, y):\n",
        "    return tf.math.less_equal(len(x), 13)\n",
        "\n",
        "train_dataset = train_dataset.filter(keep_function)\n",
        "val_dataset = val_dataset.filter(keep_function)"
      ],
      "execution_count": 47,
      "outputs": []
    },
    {
      "cell_type": "code",
      "metadata": {
        "id": "1k_S7G1UNwBe"
      },
      "source": [
        "def pad_function(x, y):\n",
        "    return tf.pad(x, paddings=[[13-len(x),0],[0,0]]), y\n",
        "\n",
        "train_dataset = train_dataset.map(pad_function)\n",
        "val_dataset = val_dataset.map(pad_function)"
      ],
      "execution_count": 48,
      "outputs": []
    },
    {
      "cell_type": "code",
      "metadata": {
        "id": "pKJgPmsINwBe"
      },
      "source": [
        "train_dataset = train_dataset.batch(16,drop_remainder= True)\n",
        "val_dataset = val_dataset.batch(16,drop_remainder= True)"
      ],
      "execution_count": 49,
      "outputs": []
    },
    {
      "cell_type": "code",
      "metadata": {
        "id": "TsqW2KDVNwBe",
        "colab": {
          "base_uri": "https://localhost:8080/",
          "height": 0
        },
        "outputId": "0539ae44-21f0-4e30-efb8-218cae16ecf9"
      },
      "source": [
        "print(f\"Train Dataset:\\n{train_dataset.element_spec}\")\n",
        "print(f\"Validation Dataset:\\n{val_dataset.element_spec}\")"
      ],
      "execution_count": 50,
      "outputs": [
        {
          "output_type": "stream",
          "text": [
            "Train Dataset:\n",
            "(TensorSpec(shape=(16, None, 128), dtype=tf.float32, name=None), TensorSpec(shape=(16, 14), dtype=tf.int32, name=None))\n",
            "Validation Dataset:\n",
            "(TensorSpec(shape=(16, None, 128), dtype=tf.float32, name=None), TensorSpec(shape=(16, 14), dtype=tf.int32, name=None))\n"
          ],
          "name": "stdout"
        }
      ]
    },
    {
      "cell_type": "code",
      "metadata": {
        "id": "7yDtd2czNwBe",
        "colab": {
          "base_uri": "https://localhost:8080/",
          "height": 0
        },
        "outputId": "cb4e91df-79ba-4120-ad1a-218bfcd2eabd"
      },
      "source": [
        "for x, y in val_dataset.take(1):\n",
        "    print(x)\n",
        "    print(y)"
      ],
      "execution_count": 51,
      "outputs": [
        {
          "output_type": "stream",
          "text": [
            "tf.Tensor(\n",
            "[[[ 0.          0.          0.         ...  0.          0.\n",
            "    0.        ]\n",
            "  [ 0.          0.          0.         ...  0.          0.\n",
            "    0.        ]\n",
            "  [ 0.          0.          0.         ...  0.          0.\n",
            "    0.        ]\n",
            "  ...\n",
            "  [ 0.09523409  0.04672582  0.03458403 ... -0.02341339  0.09433986\n",
            "    0.09683985]\n",
            "  [ 0.03716571 -0.02912278  0.12921344 ... -0.1429343  -0.17366292\n",
            "   -0.03666507]\n",
            "  [ 0.012986    0.08981702  0.16017003 ...  0.06796802  0.13528903\n",
            "   -0.022035  ]]\n",
            "\n",
            " [[ 0.          0.          0.         ...  0.          0.\n",
            "    0.        ]\n",
            "  [ 0.          0.          0.         ...  0.          0.\n",
            "    0.        ]\n",
            "  [ 0.          0.          0.         ...  0.          0.\n",
            "    0.        ]\n",
            "  ...\n",
            "  [ 0.05738572  0.1238052   0.05145928 ...  0.03163628  0.14115664\n",
            "    0.07385502]\n",
            "  [ 0.00827642  0.09686258 -0.13985433 ...  0.03056994  0.17150453\n",
            "    0.05199711]\n",
            "  [ 0.012986    0.08981702  0.16017003 ...  0.06796802  0.13528903\n",
            "   -0.022035  ]]\n",
            "\n",
            " [[ 0.          0.          0.         ...  0.          0.\n",
            "    0.        ]\n",
            "  [ 0.          0.          0.         ...  0.          0.\n",
            "    0.        ]\n",
            "  [ 0.          0.          0.         ...  0.          0.\n",
            "    0.        ]\n",
            "  ...\n",
            "  [ 0.29021624  0.11877354 -0.04901255 ... -0.25872573 -0.0224439\n",
            "    0.03195504]\n",
            "  [-0.08029494  0.10157263 -0.13782793 ... -0.03440797 -0.0132463\n",
            "    0.02340206]\n",
            "  [ 0.012986    0.08981702  0.16017003 ...  0.06796802  0.13528903\n",
            "   -0.022035  ]]\n",
            "\n",
            " ...\n",
            "\n",
            " [[ 0.          0.          0.         ...  0.          0.\n",
            "    0.        ]\n",
            "  [ 0.          0.          0.         ...  0.          0.\n",
            "    0.        ]\n",
            "  [ 0.          0.          0.         ...  0.          0.\n",
            "    0.        ]\n",
            "  ...\n",
            "  [ 0.1133877   0.0369891  -0.08000772 ...  0.04841503 -0.08362281\n",
            "   -0.00454032]\n",
            "  [-0.04865298  0.07275198  0.09703797 ... -0.06400198  0.04324698\n",
            "   -0.02635099]\n",
            "  [ 0.012986    0.08981702  0.16017003 ...  0.06796802  0.13528903\n",
            "   -0.022035  ]]\n",
            "\n",
            " [[ 0.          0.          0.         ...  0.          0.\n",
            "    0.        ]\n",
            "  [ 0.          0.          0.         ...  0.          0.\n",
            "    0.        ]\n",
            "  [ 0.          0.          0.         ...  0.          0.\n",
            "    0.        ]\n",
            "  ...\n",
            "  [-0.03886752  0.0589633  -0.05857971 ... -0.01113926  0.11953395\n",
            "   -0.18164876]\n",
            "  [ 0.10299458  0.16180418 -0.08432977 ...  0.04323117  0.08910137\n",
            "   -0.00400291]\n",
            "  [-0.01335301  0.11507112  0.12568313 ...  0.08157409  0.13599715\n",
            "   -0.03076603]]\n",
            "\n",
            " [[ 0.          0.          0.         ...  0.          0.\n",
            "    0.        ]\n",
            "  [ 0.          0.          0.         ...  0.          0.\n",
            "    0.        ]\n",
            "  [ 0.          0.          0.         ...  0.          0.\n",
            "    0.        ]\n",
            "  ...\n",
            "  [ 0.18248607  0.20725094 -0.17924513 ... -0.04790049  0.08231261\n",
            "   -0.18517673]\n",
            "  [ 0.04845919 -0.04174736  0.25597653 ... -0.07194937 -0.07522539\n",
            "    0.04384695]\n",
            "  [ 0.012986    0.08981702  0.16017003 ...  0.06796802  0.13528903\n",
            "   -0.022035  ]]], shape=(16, 13, 128), dtype=float32)\n",
            "tf.Tensor(\n",
            "[[   1   16   15   24  502  612   25   11   20   87    3    2    0    0]\n",
            " [   1    4   18    9  740 3272    3    2    0    0    0    0    0    0]\n",
            " [   1 4465    9 2573   39   10    2    0    0    0    0    0    0    0]\n",
            " [   1   69   22   11    3    2    0    0    0    0    0    0    0    0]\n",
            " [   1   14  626    9   46  231    3    2    0    0    0    0    0    0]\n",
            " [   1  109    5  116  499    3    2    0    0    0    0    0    0    0]\n",
            " [   1   16   15   40 5566    3    2    0    0    0    0    0    0    0]\n",
            " [   1   32   13   46 3088    7    2    0    0    0    0    0    0    0]\n",
            " [   1   13   32  683    3    2    0    0    0    0    0    0    0    0]\n",
            " [   1    5   68  326    3    2    0    0    0    0    0    0    0    0]\n",
            " [   1   14  265   55  114    3    2    0    0    0    0    0    0    0]\n",
            " [   1    4   18    9   12 1956    3    2    0    0    0    0    0    0]\n",
            " [   1   72    6  237    3    2    0    0    0    0    0    0    0    0]\n",
            " [   1    4   18 4530    3    2    0    0    0    0    0    0    0    0]\n",
            " [   1    6    5  139    7    2    0    0    0    0    0    0    0    0]\n",
            " [   1    4  263   60   20  114    3    2    0    0    0    0    0    0]], shape=(16, 14), dtype=int32)\n"
          ],
          "name": "stdout"
        }
      ]
    },
    {
      "cell_type": "markdown",
      "metadata": {
        "id": "vcR5uoLeNwBf"
      },
      "source": [
        "## 3. Create the custom layer\n",
        "You will now create a custom layer to add the learned end token embedding to the encoder model:\n",
        "\n",
        "![Encoder schematic](data/neural_translation_model_encoder.png)"
      ]
    },
    {
      "cell_type": "markdown",
      "metadata": {
        "id": "xX1MrmgQNwBf"
      },
      "source": [
        "You should now build the custom layer.\n",
        "* Using layer subclassing, create a custom layer that takes a batch of English data examples from one of the Datasets, and adds a learned embedded ‘end’ token to the end of each sequence. \n",
        "* This layer should create a TensorFlow Variable (that will be learned during training) that is 128-dimensional (the size of the embedding space). _Hint: you may find it helpful in the call method to use the tf.tile function to replicate the end token embedding across every element in the batch._\n",
        "* Using the Dataset `.take(1)` method, extract a batch of English data examples from the training Dataset and print the shape. Test the custom layer by calling the layer on the English data batch Tensor and print the resulting Tensor shape (the layer should increase the sequence length by one)."
      ]
    },
    {
      "cell_type": "code",
      "metadata": {
        "id": "3KT4G352NwBg"
      },
      "source": [
        "class MyLayer(Layer):\n",
        "    \n",
        "    def __init__(self, **kwargs):\n",
        "        super(MyLayer, self).__init__(**kwargs)\n",
        "        self.end_token_emb = tf.Variable(\n",
        "                                initial_value=tf.zeros(shape=(128,)),\n",
        "                                trainable=True)\n",
        "        \n",
        "    def call(self, inputs):\n",
        "        end_token = tf.tile(\n",
        "            tf.reshape(\n",
        "                self.end_token_emb, \n",
        "                shape=(1, 1, self.end_token_emb.shape[0])\n",
        "            ), \n",
        "            [tf.shape(inputs)[0],1,1]\n",
        "        )\n",
        "        return tf.keras.layers.concatenate([inputs, end_token], axis=1)\n",
        "    \n",
        "    "
      ],
      "execution_count": 52,
      "outputs": []
    },
    {
      "cell_type": "code",
      "metadata": {
        "id": "eOtZnPXHNwBg",
        "colab": {
          "base_uri": "https://localhost:8080/",
          "height": 0
        },
        "outputId": "a92c865c-8a73-4abe-a0d3-dbd977e8f5cb"
      },
      "source": [
        "for x, y in train_dataset.take(1):\n",
        "    print(f\"Initial Shape (English): {x.shape}\")\n",
        "    result = MyLayer()(x)\n",
        "    print(f\"After Shape (English)  : {result.shape}\")"
      ],
      "execution_count": 53,
      "outputs": [
        {
          "output_type": "stream",
          "text": [
            "Initial Shape (English): (16, 13, 128)\n",
            "After Shape (English)  : (16, 14, 128)\n"
          ],
          "name": "stdout"
        }
      ]
    },
    {
      "cell_type": "markdown",
      "metadata": {
        "id": "XoxGlUqSNwBg"
      },
      "source": [
        "## 4. Build the encoder network\n",
        "The encoder network follows the schematic diagram above. You should now build the RNN encoder model.\n",
        "* Using the functional API, build the encoder network according to the following spec:\n",
        "    * The model will take a batch of sequences of embedded English words as input, as given by the Dataset objects.\n",
        "    * The next layer in the encoder will be the custom layer you created previously, to add a learned end token embedding to the end of the English sequence.\n",
        "    * This is followed by a Masking layer, with the `mask_value` set to the distinct padding value you used when you padded the English sequences with the Dataset preprocessing above.\n",
        "    * The final layer is an LSTM layer with 512 units, which also returns the hidden and cell states.\n",
        "    * The encoder is a multi-output model. There should be two output Tensors of this model: the hidden state and cell states of the LSTM layer. The output of the LSTM layer is unused.\n",
        "* Using the Dataset `.take(1)` method, extract a batch of English data examples from the training Dataset and test the encoder model by calling it on the English data Tensor, and print the shape of the resulting Tensor outputs.\n",
        "* Print the model summary for the encoder network."
      ]
    },
    {
      "cell_type": "code",
      "metadata": {
        "id": "AfQJ4a1HNwBh"
      },
      "source": [
        "def build_encoder(input_shape):\n",
        "    inputs = Input(shape=input_shape)\n",
        "    h = MyLayer()(inputs)\n",
        "    h = Masking(mask_value=0)(h)\n",
        "    lstm, h_state, c_state = LSTM(512, return_state=True)(h)\n",
        "    return Model(inputs=inputs, outputs=[h_state, c_state])\n",
        "    \n",
        "    "
      ],
      "execution_count": 54,
      "outputs": []
    },
    {
      "cell_type": "code",
      "metadata": {
        "id": "bcxYTEzTNwBh",
        "colab": {
          "base_uri": "https://localhost:8080/",
          "height": 0
        },
        "outputId": "8c99a4aa-2708-4d27-ed6a-625749e8537f"
      },
      "source": [
        "model_e = build_encoder((13, 128))\n",
        "model_e.summary()"
      ],
      "execution_count": 55,
      "outputs": [
        {
          "output_type": "stream",
          "text": [
            "Model: \"model_1\"\n",
            "_________________________________________________________________\n",
            "Layer (type)                 Output Shape              Param #   \n",
            "=================================================================\n",
            "input_2 (InputLayer)         [(None, 13, 128)]         0         \n",
            "_________________________________________________________________\n",
            "my_layer_3 (MyLayer)         (None, 14, 128)           128       \n",
            "_________________________________________________________________\n",
            "masking_1 (Masking)          (None, 14, 128)           0         \n",
            "_________________________________________________________________\n",
            "lstm_2 (LSTM)                [(None, 512), (None, 512) 1312768   \n",
            "=================================================================\n",
            "Total params: 1,312,896\n",
            "Trainable params: 1,312,896\n",
            "Non-trainable params: 0\n",
            "_________________________________________________________________\n"
          ],
          "name": "stdout"
        }
      ]
    },
    {
      "cell_type": "markdown",
      "metadata": {
        "id": "6GAPAXgtNwBh"
      },
      "source": [
        "## 5. Build the decoder network\n",
        "The decoder network follows the schematic diagram below. \n",
        "\n",
        "![Decoder schematic](data/neural_translation_model_decoder.png)"
      ]
    },
    {
      "cell_type": "markdown",
      "metadata": {
        "id": "ZOXva3sMNwBh"
      },
      "source": [
        "You should now build the RNN decoder model.\n",
        "* Using Model subclassing, build the decoder network according to the following spec:\n",
        "    * The initializer should create the following layers:\n",
        "        * An Embedding layer with vocabulary size set to the number of unique German tokens, embedding dimension 128, and set to mask zero values in the input.\n",
        "        * An LSTM layer with 512 units, that returns its hidden and cell states, and also returns sequences.\n",
        "        * A Dense layer with number of units equal to the number of unique German tokens, and no activation function.\n",
        "    * The call method should include the usual `inputs` argument, as well as the additional keyword arguments `hidden_state` and `cell_state`. The default value for these keyword arguments should be `None`.\n",
        "    * The call method should pass the inputs through the Embedding layer, and then through the LSTM layer. If the `hidden_state` and `cell_state` arguments are provided, these should be used for the initial state of the LSTM layer. _Hint: use the_ `initial_state` _keyword argument when calling the LSTM layer on its input._\n",
        "    * The call method should pass the LSTM output sequence through the Dense layer, and return the resulting Tensor, along with the hidden and cell states of the LSTM layer.\n",
        "* Using the Dataset `.take(1)` method, extract a batch of English and German data examples from the training Dataset. Test the decoder model by first calling the encoder model on the English data Tensor to get the hidden and cell states, and then call the decoder model on the German data Tensor and hidden and cell states, and print the shape of the resulting decoder Tensor outputs.\n",
        "* Print the model summary for the decoder network."
      ]
    },
    {
      "cell_type": "code",
      "metadata": {
        "id": "AVyn39fANwBi"
      },
      "source": [
        "vocab_size = len(word_index) + 1"
      ],
      "execution_count": 56,
      "outputs": []
    },
    {
      "cell_type": "code",
      "metadata": {
        "colab": {
          "base_uri": "https://localhost:8080/",
          "height": 0
        },
        "id": "alAhCSyIkqri",
        "outputId": "1b63b71c-0b4d-42eb-dd2a-a4f2416b6006"
      },
      "source": [
        "vocab_size"
      ],
      "execution_count": 57,
      "outputs": [
        {
          "output_type": "execute_result",
          "data": {
            "text/plain": [
              "7276"
            ]
          },
          "metadata": {
            "tags": []
          },
          "execution_count": 57
        }
      ]
    },
    {
      "cell_type": "code",
      "metadata": {
        "id": "yu5iGFyJNwBi"
      },
      "source": [
        "class MyDecodeModel(Model):\n",
        "    def __init__(self, **kwargs):\n",
        "        super(MyDecodeModel, self).__init__(self,**kwargs)\n",
        "        self.embedding = Embedding(input_dim = vocab_size, output_dim = 128,mask_zero = True)\n",
        "        self.lstm = LSTM(512, return_sequences=True, return_state=True)\n",
        "        self.dense = Dense(vocab_size)\n",
        "        \n",
        "    def call(self,inputs,hidden_state = None,cell_state = None):\n",
        "        h = self.embedding(inputs)\n",
        "        if hidden_state is None or cell_state is None:\n",
        "            lstm, h_state, c_state = self.lstm(h)\n",
        "        else:\n",
        "            lstm, h_state, c_state = self.lstm(h, initial_state = [hidden_state,cell_state])\n",
        "        outputs = self.dense(lstm)\n",
        "        return outputs, h_state, c_state\n",
        "        "
      ],
      "execution_count": 58,
      "outputs": []
    },
    {
      "cell_type": "code",
      "metadata": {
        "id": "UNSlxkFONwBi"
      },
      "source": [
        "model_d = MyDecodeModel()"
      ],
      "execution_count": 59,
      "outputs": []
    },
    {
      "cell_type": "code",
      "metadata": {
        "id": "_Qs0JfziNwBi",
        "colab": {
          "base_uri": "https://localhost:8080/",
          "height": 0
        },
        "outputId": "3b6d19b4-c6c5-406e-da02-c0d116507931"
      },
      "source": [
        "for english, german in train_dataset.take(1):\n",
        "    h_state, c_state = model_e(english)\n",
        "    outputs, h_state, c_state = model_d(german, h_state, c_state)\n",
        "    print(f\"OUTPUTS:    {outputs.shape}\")\n",
        "    print(f\"HIDDEN:     {h_state.shape}\")\n",
        "    print(f\"CELL_STATE: {c_state.shape}\")\n",
        "\n",
        "model_d.summary()"
      ],
      "execution_count": 60,
      "outputs": [
        {
          "output_type": "stream",
          "text": [
            "OUTPUTS:    (16, 14, 7276)\n",
            "HIDDEN:     (16, 512)\n",
            "CELL_STATE: (16, 512)\n",
            "Model: \"my_decode_model_1\"\n",
            "_________________________________________________________________\n",
            "Layer (type)                 Output Shape              Param #   \n",
            "=================================================================\n",
            "embedding_1 (Embedding)      multiple                  931328    \n",
            "_________________________________________________________________\n",
            "lstm_3 (LSTM)                multiple                  1312768   \n",
            "_________________________________________________________________\n",
            "dense_1 (Dense)              multiple                  3732588   \n",
            "=================================================================\n",
            "Total params: 5,976,684\n",
            "Trainable params: 5,976,684\n",
            "Non-trainable params: 0\n",
            "_________________________________________________________________\n"
          ],
          "name": "stdout"
        }
      ]
    },
    {
      "cell_type": "markdown",
      "metadata": {
        "id": "iU3fjJ9CNwBi"
      },
      "source": [
        "## 6. Make a custom training loop\n",
        "You should now write a custom training loop to train your custom neural translation model.\n",
        "* Define a function that takes a Tensor batch of German data (as extracted from the training Dataset), and returns a tuple containing German inputs and outputs for the decoder model (refer to schematic diagram above).\n",
        "* Define a function that computes the forward and backward pass for your translation model. This function should take an English input, German input and German output as arguments, and should do the following:\n",
        "    * Pass the English input into the encoder, to get the hidden and cell states of the encoder LSTM.\n",
        "    * These hidden and cell states are then passed into the decoder, along with the German inputs, which returns a sequence of outputs (the hidden and cell state outputs of the decoder LSTM are unused in this function).\n",
        "    * The loss should then be computed between the decoder outputs and the German output function argument.\n",
        "    * The function returns the loss and gradients with respect to the encoder and decoder’s trainable variables.\n",
        "    * Decorate the function with @tf.function\n",
        "* Define and run a custom training loop for a number of epochs (for you to choose) that does the following:\n",
        "    * Iterates through the training dataset, and creates decoder inputs and outputs from the German sequences.\n",
        "    * Updates the parameters of the translation model using the gradients of the function above and an optimizer object.\n",
        "    * Every epoch, compute the validation loss on a number of batches from the validation and save the epoch training and validation losses.\n",
        "* Plot the learning curves for loss vs epoch for both training and validation sets.\n",
        "\n",
        "_Hint: This model is computationally demanding to train. The quality of the model or length of training is not a factor in the grading rubric. However, to obtain a better model we recommend using the GPU accelerator hardware on Colab._"
      ]
    },
    {
      "cell_type": "code",
      "metadata": {
        "id": "VNpRhxVNNwBj"
      },
      "source": [
        "def get_german_input_output(data):\n",
        "    return (data[:,:-1], data[:,1:])"
      ],
      "execution_count": 70,
      "outputs": []
    },
    {
      "cell_type": "code",
      "metadata": {
        "id": "HYrOh5KENwBj"
      },
      "source": [
        "optimizer_obj = tf.keras.optimizers.Adam(learning_rate=0.001)\n",
        "loss_obj = tf.keras.losses.SparseCategoricalCrossentropy(from_logits=True)"
      ],
      "execution_count": 71,
      "outputs": []
    },
    {
      "cell_type": "code",
      "metadata": {
        "id": "aNLcmUWSNwBj"
      },
      "source": [
        "@tf.function\n",
        "def grad_fn(english, german_input, german_output):\n",
        "    with tf.GradientTape() as tape:\n",
        "        h_state, c_state = model_e(english)\n",
        "        outputs, _, _ = model_d(german_input, h_state, c_state)\n",
        "        loss = tf.math.reduce_mean(loss_obj(german_output, outputs))\n",
        "        grads_e, grads_d = tape.gradient(loss, [model_e.trainable_variables, model_d.trainable_variables])\n",
        "    return (loss, grads_e, grads_d)\n"
      ],
      "execution_count": 72,
      "outputs": []
    },
    {
      "cell_type": "code",
      "metadata": {
        "id": "6hTKiEuJNwBk",
        "colab": {
          "base_uri": "https://localhost:8080/",
          "height": 0
        },
        "outputId": "8f4e106d-4382-44e3-ae9c-fd9ba8bdb027"
      },
      "source": [
        "num_epochs = 5\n",
        "train_loss_results = []\n",
        "val_loss_results = []\n",
        "\n",
        "for epoch in range(num_epochs):\n",
        "    train_loss = tf.keras.metrics.Mean()\n",
        "    val_loss = tf.keras.metrics.Mean()\n",
        "\n",
        "    # Training loop\n",
        "    for english, y in train_dataset:\n",
        "        # Optimize the model\n",
        "        german_in, german_out = get_german_input_output(y)\n",
        "        loss_value, grads_e, grads_d = grad_fn(english, german_in, german_out)\n",
        "        optimizer_obj.apply_gradients(zip(grads_e, model_e.trainable_variables))\n",
        "        optimizer_obj.apply_gradients(zip(grads_d, model_d.trainable_variables))\n",
        "\n",
        "        # Compute current loss\n",
        "        train_loss(loss_value)\n",
        "        # print(f\"batch: {loss_value}\")\n",
        "\n",
        "    # End epoch\n",
        "    train_loss_results.append(train_loss.result())\n",
        "    print(f\"EPOCH_TRAIN {epoch}: {train_loss.result()}\")\n",
        "    \n",
        "    # Validation loop\n",
        "    for english, y in val_dataset:\n",
        "        german_in, german_out = get_german_input_output(y)\n",
        "        loss_value, _, _ = grad_fn(english, german_in, german_out)\n",
        "        # Compute current loss\n",
        "        val_loss(loss_value)\n",
        "\n",
        "    # End epoch\n",
        "    val_loss_results.append(val_loss.result())\n",
        "    print(f\"EPOCH_VAL {epoch}  : {val_loss.result()}\")"
      ],
      "execution_count": 73,
      "outputs": [
        {
          "output_type": "stream",
          "text": [
            "EPOCH_TRAIN 0: 4.921014785766602\n",
            "EPOCH_VAL 0  : 4.051639556884766\n",
            "EPOCH_TRAIN 1: 3.3548083305358887\n",
            "EPOCH_VAL 1  : 2.898362874984741\n",
            "EPOCH_TRAIN 2: 2.17414927482605\n",
            "EPOCH_VAL 2  : 1.9638652801513672\n",
            "EPOCH_TRAIN 3: 1.2442398071289062\n",
            "EPOCH_VAL 3  : 1.3351695537567139\n",
            "EPOCH_TRAIN 4: 0.6860963702201843\n",
            "EPOCH_VAL 4  : 1.059979796409607\n"
          ],
          "name": "stdout"
        }
      ]
    },
    {
      "cell_type": "code",
      "metadata": {
        "id": "AA4gzc6zNwBk",
        "colab": {
          "base_uri": "https://localhost:8080/",
          "height": 295
        },
        "outputId": "50bb76fb-f240-4d04-d6b3-575c9c3c4fba"
      },
      "source": [
        "import matplotlib.pyplot as plt\n",
        "\n",
        "# Plot the learning curves for loss vs epoch for both training and validation sets.\n",
        "\n",
        "plt.plot(train_loss_results)\n",
        "plt.plot(val_loss_results)\n",
        "plt.title('Loss over Epochs')\n",
        "plt.ylabel('Loss')\n",
        "plt.xlabel('Epoch')\n",
        "plt.legend(['Training', \"Validation\"])\n",
        "\n",
        "plt.show()"
      ],
      "execution_count": 75,
      "outputs": [
        {
          "output_type": "display_data",
          "data": {
            "image/png": "[encoded data removed]",
            "text/plain": [
              "<Figure size 432x288 with 1 Axes>"
            ]
          },
          "metadata": {
            "tags": [],
            "needs_background": "light"
          }
        }
      ]
    },
    {
      "cell_type": "markdown",
      "metadata": {
        "id": "DAy36eoGNwBk"
      },
      "source": [
        "## 7. Use the model to translate\n",
        "Now it's time to put your model into practice! You should run your translation for five randomly sampled English sentences from the dataset. For each sentence, the process is as follows:\n",
        "* Preprocess and embed the English sentence according to the model requirements.\n",
        "* Pass the embedded sentence through the encoder to get the encoder hidden and cell states.\n",
        "* Starting with the special  `\"<start>\"` token, use this token and the final encoder hidden and cell states to get the one-step prediction from the decoder, as well as the decoder’s updated hidden and cell states.\n",
        "* Create a loop to get the next step prediction and updated hidden and cell states from the decoder, using the most recent hidden and cell states. Terminate the loop when the `\"<end>\"` token is emitted, or when the sentence has reached a maximum length.\n",
        "* Decode the output token sequence into German text and print the English text and the model's German translation."
      ]
    },
    {
      "cell_type": "code",
      "metadata": {
        "id": "FGMJ4cIHNwBl"
      },
      "source": [
        "num = 5\n",
        "\n",
        "start = tokenizer.word_index['<start>']\n",
        "end = tokenizer.word_index['<end>']\n",
        "english_sentences_pre = []\n",
        "english_sentences_processed = []\n",
        "german_sentences_seq = []\n",
        "\n",
        "for i in range(num):\n",
        "  x = np.random.choice(range(len(data_examples)))\n",
        "  p_english = data_examples[x].split(\"\\t\")[0]\n",
        "  english_sentences_pre.append(p_english)\n",
        "  p_english = preprocess_sentence(p_english)\n",
        "  english_sentences_processed.append(p_english)\n",
        "  english = tf.strings.split(p_english,sep = \" \")\n",
        "  english = embedding_layer(english)\n",
        "  english = tf.pad(english, [[13-len(english), 0], [0, 0]], constant_values = 0)\n",
        "  english = tf.expand_dims(english, 0)\n",
        "  h_state, c_state = model_e(english)\n",
        "  translated_tokens = []\n",
        "  tf_token = tf.Variable([[start]])\n",
        "  for i in range(13):\n",
        "    output_1,h_state, c_state = model_d(tf_token, h_state, c_state)\n",
        "    output_2 = tf.argmax(output_1, 2).numpy()[0,0]\n",
        "    tf_token = tf.Variable([[output_2]])\n",
        "    if output_2 == end:\n",
        "      break\n",
        "    else:\n",
        "      translated_tokens.append(output_2)\n",
        "  german_sentences_seq.append(translated_tokens)"
      ],
      "execution_count": 89,
      "outputs": []
    },
    {
      "cell_type": "code",
      "metadata": {
        "id": "RuxvKOoa1Ecw"
      },
      "source": [
        "inv_german_index = {value:key for key,value in tokenizer.word_index.items()}\n",
        "german_sentences = []\n",
        "for seq in german_sentences_seq:\n",
        "  output_words = []\n",
        "  for token in seq:\n",
        "    output_words.append(inv_german_index[token])\n",
        "  output = \" \".join(output_words)\n",
        "  german_sentences.append(output)"
      ],
      "execution_count": 90,
      "outputs": []
    },
    {
      "cell_type": "code",
      "metadata": {
        "colab": {
          "base_uri": "https://localhost:8080/",
          "height": 0
        },
        "id": "AtMFAUGC1cXo",
        "outputId": "886bd11a-6935-4c84-b1d5-4976a160566b"
      },
      "source": [
        "from prettytable import PrettyTable\n",
        "\n",
        "table = PrettyTable(['English sentences', 'German Translations'])\n",
        "for english,german in zip(english_sentences_pre,german_sentences):\n",
        "  table.add_row([english,german])\n",
        "  \n",
        "print(table)"
      ],
      "execution_count": 91,
      "outputs": [
        {
          "output_type": "stream",
          "text": [
            "+---------------------+---------------------------------+\n",
            "|  English sentences  |       German Translations       |\n",
            "+---------------------+---------------------------------+\n",
            "|   Go get your car.  |         geh mein auto .         |\n",
            "|   Is it your bike?  |       ist das dein auto ?       |\n",
            "|  They'll be afraid. |   sie werden schon fuerchten .  |\n",
            "| I want you to wait. | ich moechte , dass du wartest . |\n",
            "|     Is it legal?    |         ist es vorbei ?         |\n",
            "+---------------------+---------------------------------+\n"
          ],
          "name": "stdout"
        }
      ]
    },
    {
      "cell_type": "code",
      "metadata": {
        "id": "kdelYt2l1l-j"
      },
      "source": [
        ""
      ],
      "execution_count": null,
      "outputs": []
    }
  ]
}